{
 "cells": [
  {
   "cell_type": "code",
   "execution_count": 19,
   "metadata": {},
   "outputs": [],
   "source": [
    "import numpy as np\n",
    "import matplotlib.pyplot as plt\n"
   ]
  },
  {
   "cell_type": "code",
   "execution_count": 63,
   "metadata": {},
   "outputs": [],
   "source": [
    "R_planet = 70000\n",
    "R_star = 695842\n",
    "i = np.pi/2\n",
    "P = 1\n",
    "a = 778000000"
   ]
  },
  {
   "cell_type": "code",
   "execution_count": 64,
   "metadata": {
    "scrolled": true
   },
   "outputs": [],
   "source": [
    "delta = (R_planet/R_star)**2\n",
    "transit_t = (P/np.pi)*np.arcsin((((R_star + R_planet)**2 - (a*np.cos(i))**2)**0.5)/(a*np.sin(i)))\n",
    "transit_f = (P/np.pi)*np.arcsin((((R_star - R_planet)**2 - (a*np.cos(i))**2)**0.5)/(a*np.sin(i)))"
   ]
  },
  {
   "cell_type": "code",
   "execution_count": 190,
   "metadata": {},
   "outputs": [],
   "source": [
    "def linear(a,b,c,d,t):\n",
    "    y = b + ((d-b)/(c-a)*(t-a))\n",
    "    return y"
   ]
  },
  {
   "cell_type": "code",
   "execution_count": 191,
   "metadata": {},
   "outputs": [],
   "source": [
    "t=[]\n",
    "t = np.arange(0.49*P,0.51*P,(transit_t - transit_f)/20)\n",
    "y =[]\n",
    "\n",
    "for i in range (0,len(t),1):\n",
    "    if (t[i] <= 0.5*P or t[i] > (0.5*P + transit_t)) :\n",
    "        y.append(1)\n",
    "    elif (t[i]>0.5*P and t[i] <= (0.5*P + (transit_t - transit_f)/2)):\n",
    "            y.append(linear(0.5*P,1,0.5*P+(transit_t - transit_f)/2,1-delta,t[i]))\n",
    "    elif  (t[i]>(0.5*P + (transit_t + transit_f)/2) and t[i] <=(0.5*P + transit_t)):\n",
    "            y.append(linear(0.5*P+(transit_t + transit_f)/2,1-delta,0.5*P+transit_t,1,t[i]))\n",
    "    else :\n",
    "            y.append(1 - delta)                 \n",
    "\n",
    "        "
   ]
  },
  {
   "cell_type": "code",
   "execution_count": 195,
   "metadata": {},
   "outputs": [
    {
     "data": {
      "text/plain": [
       "Text(0, 0.5, 'relative_intensity')"
      ]
     },
     "execution_count": 195,
     "metadata": {},
     "output_type": "execute_result"
    },
    {
     "data": {
      "image/png": "[encoded data removed]",
      "text/plain": [
       "<Figure size 576x432 with 1 Axes>"
      ]
     },
     "metadata": {
      "needs_background": "light"
     },
     "output_type": "display_data"
    }
   ],
   "source": [
    "plt.figure(figsize=(8,6))\n",
    "plt.plot(t*12*365,y,'k')\n",
    "plt.xlabel('time(in days)')\n",
    "plt.ylabel('relative_intensity')"
   ]
  },
  {
   "cell_type": "code",
   "execution_count": null,
   "metadata": {},
   "outputs": [],
   "source": []
  }
 ],
 "metadata": {
  "kernelspec": {
   "display_name": "Python 3",
   "language": "python",
   "name": "python3"
  },
  "language_info": {
   "codemirror_mode": {
    "name": "ipython",
    "version": 3
   },
   "file_extension": ".py",
   "mimetype": "text/x-python",
   "name": "python",
   "nbconvert_exporter": "python",
   "pygments_lexer": "ipython3",
   "version": "3.7.6"
  }
 },
 "nbformat": 4,
 "nbformat_minor": 4
}
