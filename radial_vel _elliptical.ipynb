{
 "cells": [
  {
   "cell_type": "code",
   "execution_count": 10,
   "metadata": {},
   "outputs": [],
   "source": [
    "import numpy as np\n",
    "import matplotlib.pyplot as plt\n"
   ]
  },
  {
   "cell_type": "code",
   "execution_count": 11,
   "metadata": {},
   "outputs": [],
   "source": [
    "\n",
    "R_planet = 7*10**7\n",
    "R_star = 7*10**8\n",
    "angle = np.pi/2\n",
    "P = 3*10**7 \n",
    "a = 1*10**11\n",
    "e = 0\n",
    "ratio_of_mass  = 1/1000    #ratio of planet to stnar mass , data taken as ratio of jupiter to sun\n",
    "angle_of_orbit = 0*np.pi/180 \n",
    "M_planet = 2*10**27\n",
    "M_star = 2*10**30"
   ]
  },
  {
   "cell_type": "code",
   "execution_count": 12,
   "metadata": {},
   "outputs": [],
   "source": [
    "#first lets assume the orbit is circular and its a two body problem\n",
    "# COM = M_planet*a/(M_planet + M_star) \n",
    "# COM is measured from stars center\n",
    "COM = a/(1+(1/ratio_of_mass))\n",
    "b   = a*np.cos(angle)\n"
   ]
  },
  {
   "cell_type": "code",
   "execution_count": 13,
   "metadata": {},
   "outputs": [],
   "source": [
    "\n",
    "def area(x):                               #this is area on star covered by planet during start and end of transit\n",
    "    alpha = np.arccos((R_planet-x)/R_planet)\n",
    "    A = alpha*R_planet**2 - R_planet*np.sin(alpha)*(R_planet-x)\n",
    "    return A\n",
    "\n",
    "R_len = ((R_star+R_planet)**2 - b**2)**0.5\n",
    "\n",
    "\n",
    "P_rot_star = P*27/365                # data of sun  \n",
    "omega_rot = 2*np.pi/P_rot_star\n",
    "W_star = np.pi*(0.5)"
   ]
  },
  {
   "cell_type": "code",
   "execution_count": 32,
   "metadata": {},
   "outputs": [],
   "source": [
    "    \n",
    "def v_rot(alpha,theta):\n",
    "    vel_rot = -omega_rot*R_star*np.cos(theta)*np.cos(alpha)\n",
    "   \n",
    "    return vel_rot\n",
    "\n",
    "def vel_rad(t):\n",
    "    W_star = np.pi*(0.5)                   #W_star is the angle between periastron and ascending node\n",
    "    T = 0                                      #T is the last time star crosses periastron\n",
    "    M_anomaly = 2*np.pi*(t-T)/P   \n",
    "    V_com = 10                   #m/s\n",
    "    \n",
    "    K = ((6.67*10**-11)/(1-e**2))**0.5*M_planet*np.sin(angle)/((M_planet+M_star)*a)**0.5        #this is taken from a phd thesis\n",
    "    \n",
    "    E = ecc_anomaly(M_anomaly,e)\n",
    "    v_star = true_anomaly(E,e)\n",
    "    V = V_com + K*(np.cos(W_star + v_star) + e*np.cos(W_star ))\n",
    "    return V\n",
    "   \n",
    "    \n",
    "def ecc_anomaly(M,e):\n",
    "    E_1 = M\n",
    "    E_0 = 0\n",
    "    while abs(E_1-E_0)>0.1:\n",
    "        \n",
    "        S = M + e*np.sin(E_1)\n",
    "        E_0 = E_1\n",
    "        E_1 = S\n",
    "        \n",
    "        #print(E_1-E_0)\n",
    "      \n",
    "    return E_1\n",
    "    \n",
    "    \n",
    "\n",
    "def true_anomaly(E,e):\n",
    "    \n",
    "    v =np.arccos((np.cos(E)-e)/(1-e*np.cos(E)))\n",
    "    if E >np.pi:\n",
    "        v = 2*np.pi - v\n",
    "    return v\n",
    "\n",
    "\n",
    "def vel_tot(t,x,A):\n",
    "   \n",
    "    \n",
    "    o = angle_of_orbit\n",
    "    \n",
    "    \n",
    "    \n",
    "    \n",
    "   \n",
    "    y = (R_len -x )*np.sin(o) - b*np.cos(o)   \n",
    "   \n",
    "    #calculating alpha and theta\n",
    "    #here theta is latitude on star covered by planet and alpha is like the longitude (ranging from 0 to 180 as planet transits)\n",
    "    if abs(R_star + R_planet - x*np.cos(o)) < abs(R_star+R_planet)   :\n",
    "        alpha = np.arccos((R_star + R_planet - x*np.cos(o))/(R_star+R_planet))\n",
    "        \n",
    "    else :\n",
    "        alpha = np.pi\n",
    "\n",
    "    \n",
    "    \n",
    "    theta = np.arcsin(y/(R_star+R_planet))\n",
    "   \n",
    "    \n",
    "    v_radial = vel_rad(t)\n",
    "    v_rotation = v_rot(alpha,theta)\n",
    "    \n",
    "    v_tot = v_radial + v_rotation\n",
    "    \n",
    "    vel_covered = A*v_tot/(np.pi*R_star**2)\n",
    "    vel_final = v_radial - vel_covered\n",
    "  \n",
    "    return vel_final\n",
    "    \n",
    "    \n",
    "\n",
    "    \n",
    "    \n",
    "def velocity(x):               #this is velocity of planet while transiting the star\n",
    "    orb_v = 2*np.pi*a*np.sin(angle)/P\n",
    "    vel_circle = orb_v\n",
    "    velocity  = ((1 + e*np.sin(W_star +np.pi))/(1-e**2)**0.5)*vel_circle  #this formula is taken from phd thesis\n",
    "    \n",
    "    return velocity"
   ]
  },
  {
   "cell_type": "code",
   "execution_count": 33,
   "metadata": {},
   "outputs": [],
   "source": [
    "time = np.arange(0,P,P/50000)\n",
    "vel1 =[]\n",
    "\n",
    "x=0\n",
    "for i in range(0,len(time),1):\n",
    "    M = 2*np.pi*(time[i])/P \n",
    "    E_A = ecc_anomaly(M,e)\n",
    "    T_A = true_anomaly(E_A,e)\n",
    "    \n",
    "  \n",
    "    \n",
    "    if T_A > np.pi/2 + W_star and x < 2*R_len +R_planet:\n",
    "        \n",
    "        v = velocity(x)\n",
    "       \n",
    "        \n",
    "        x = x + v*(time[i]-time[i-1])\n",
    "        if x<2*R_planet:\n",
    "            A =area(x)\n",
    "            vel1.append(vel_tot(time[i],x,A))\n",
    "           \n",
    "            \n",
    "        elif  x>= 2*R_planet and x<2*R_len-2*R_planet :\n",
    "           \n",
    "            A = np.pi*R_planet**2\n",
    "            vel1.append(vel_tot(time[i],x,A))\n",
    "           \n",
    "           \n",
    "        elif x>=2*R_len - 2*R_planet and x<2*R_len :\n",
    "            A = area(2*R_len  - x)\n",
    "            vel1.append(vel_tot(time[i],x,A))\n",
    "            \n",
    "            \n",
    "        else:\n",
    "            vel1.append(vel_rad(time[i]))\n",
    "       \n",
    "        \n",
    "    else:\n",
    "        vel1.append(vel_rad(time[i]))\n",
    "     \n",
    "    "
   ]
  },
  {
   "cell_type": "code",
   "execution_count": 30,
   "metadata": {},
   "outputs": [
    {
     "data": {
      "text/plain": [
       "Text(0.5, 1.0, 'this plot is zoomed at transit')"
      ]
     },
     "execution_count": 30,
     "metadata": {},
     "output_type": "execute_result"
    },
    {
     "data": {
      "image/png": "[encoded data removed]",
      "text/plain": [
       "<Figure size 576x432 with 1 Axes>"
      ]
     },
     "metadata": {
      "needs_background": "light"
     },
     "output_type": "display_data"
    }
   ],
   "source": [
    "plt.figure(figsize=(8,6))\n",
    "plt.plot(time,vel1,'k')\n",
    "plt.xlim(24900/50000*P,25200/50000*P)\n",
    "\n",
    "plt.ylabel('velocity in m/s')\n",
    "plt.xlabel('time in sec')\n",
    "plt.title('this plot is zoomed at transit')"
   ]
  },
  {
   "cell_type": "code",
   "execution_count": 31,
   "metadata": {},
   "outputs": [
    {
     "data": {
      "text/plain": [
       "Text(0.5, 1.0, 'this plot is for 1 year')"
      ]
     },
     "execution_count": 31,
     "metadata": {},
     "output_type": "execute_result"
    },
    {
     "data": {
      "image/png": "[encoded data removed]",
      "text/plain": [
       "<Figure size 576x432 with 1 Axes>"
      ]
     },
     "metadata": {
      "needs_background": "light"
     },
     "output_type": "display_data"
    }
   ],
   "source": [
    "plt.figure(figsize=(8,6))\n",
    "plt.plot(time,vel1,'k')\n",
    "plt.ylabel('velocity in m/s')\n",
    "plt.xlabel('time in sec')\n",
    "plt.title('this plot is for 1 year')"
   ]
  },
  {
   "cell_type": "code",
   "execution_count": 34,
   "metadata": {},
   "outputs": [
    {
     "data": {
      "text/plain": [
       "36.50571643821462"
      ]
     },
     "execution_count": 34,
     "metadata": {},
     "output_type": "execute_result"
    }
   ],
   "source": [
    "((6.67*10**-11)/(1-e**2))**0.5*M_planet*np.sin(angle)/((M_planet+M_star)*a)**0.5 "
   ]
  },
  {
   "cell_type": "code",
   "execution_count": null,
   "metadata": {},
   "outputs": [],
   "source": []
  },
  {
   "cell_type": "code",
   "execution_count": null,
   "metadata": {},
   "outputs": [],
   "source": []
  }
 ],
 "metadata": {
  "kernelspec": {
   "display_name": "Python 3",
   "language": "python",
   "name": "python3"
  },
  "language_info": {
   "codemirror_mode": {
    "name": "ipython",
    "version": 3
   },
   "file_extension": ".py",
   "mimetype": "text/x-python",
   "name": "python",
   "nbconvert_exporter": "python",
   "pygments_lexer": "ipython3",
   "version": "3.7.6"
  }
 },
 "nbformat": 4,
 "nbformat_minor": 4
}
