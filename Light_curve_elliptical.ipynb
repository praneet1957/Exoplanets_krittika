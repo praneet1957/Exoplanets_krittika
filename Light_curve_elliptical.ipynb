{
 "cells": [
  {
   "cell_type": "code",
   "execution_count": 67,
   "metadata": {},
   "outputs": [],
   "source": [
    "import numpy as np\n",
    "import matplotlib.pyplot as plt\n"
   ]
  },
  {
   "cell_type": "code",
   "execution_count": 68,
   "metadata": {},
   "outputs": [],
   "source": [
    "# the specifications are for jupyter earth system\n",
    "R_planet = 70000\n",
    "R_star = 695842\n",
    "angle = np.pi/2\n",
    "P = 1\n",
    "a = 778000000\n",
    "#assumed\n",
    "e = 0.5            \n",
    "omega = 0.2 "
   ]
  },
  {
   "cell_type": "code",
   "execution_count": 69,
   "metadata": {},
   "outputs": [],
   "source": [
    "delta = (R_planet/R_star)**2\n",
    "\n",
    "#these times are for circular orbit\n",
    "transit_t = (P/np.pi)*np.arcsin((((R_star + R_planet)**2 - (a*np.cos(angle))**2)**0.5)/(a*np.sin(angle)))\n",
    "transit_f = (P/np.pi)*np.arcsin((((R_star - R_planet)**2 - (a*np.cos(angle))**2)**0.5)/(a*np.sin(angle)))\n",
    "\n",
    "\n",
    "b_transit = a*np.cos(angle)*(1 - e**2)/(1+e*np.cos(omega))\n",
    "b_occ = a*np.cos(angle)*(1 - e**2)/(1-e*np.cos(omega))"
   ]
  },
  {
   "cell_type": "code",
   "execution_count": 70,
   "metadata": {},
   "outputs": [],
   "source": [
    "#Here I means relative intensity \n",
    "#linear model\n",
    "\n",
    "def lin(mu):\n",
    "    u = 0.3\n",
    "    return  1- u*(1-mu)\n",
    "\n",
    "#quadratic law\n",
    "\n",
    "def quad(mu):\n",
    "    u1 = 0.1\n",
    "    u2 = 0.2\n",
    "    return  1- u1*(1-mu) -u2*(1-mu)**2\n",
    "#non-linear law\n",
    "def nonlinear(mu):\n",
    "    u1 = 0.05\n",
    "    u2 = 0.05\n",
    "    u3 = 0.15\n",
    "    u4 = 0.05\n",
    "    return  1-u1*(1-mu**0.5) -u2*(1-mu)-u3*(1 -mu**1.5)-u4*(1 - mu**2)"
   ]
  },
  {
   "cell_type": "code",
   "execution_count": 71,
   "metadata": {},
   "outputs": [],
   "source": [
    "I_avg = 1       #since we are plotting relative intensity w.r.t to avg_intesity of star we need to find I_avg (without planet)\n",
    "\n",
    "I_center = 1/0.9  #this is assumed not calculated \n",
    "\n"
   ]
  },
  {
   "cell_type": "code",
   "execution_count": 72,
   "metadata": {},
   "outputs": [
    {
     "name": "stdout",
     "output_type": "stream",
     "text": [
      "0.0002485581561951918\n"
     ]
    }
   ],
   "source": [
    "# ok now lets introduce planet luminosity\n",
    "r_coeff = 1\n",
    "L_planet  = r_coeff*I_avg/4*(R_planet/a)**2\n",
    "\n",
    "#including planet lminosity\n",
    "Temp_star = 5700\n",
    "Temp_planet = 140        # these values are of sun and jupyter\n",
    "\n",
    "#intensity by planet is calculated by stefan boltzmann law\n",
    "#the ratio of intensity of star to that of planet is proportional to ratio of respective temperature at longer wavelengths\n",
    "#assuming planet and star act as black body\n",
    "\n",
    "I_planet = (Temp_planet/Temp_star)   #I_planet w.r.t to star\n",
    "\n",
    "\n",
    "delta_occ  = (L_planet+I_planet)*(R_planet/R_star)**2\n",
    "print(delta_occ)"
   ]
  },
  {
   "cell_type": "code",
   "execution_count": 88,
   "metadata": {},
   "outputs": [],
   "source": [
    "#adding eccentricity\n",
    "\n",
    "v = np.pi/2 - omega                    # omega is assumed\n",
    "                                         #e = (1 - (b/a)**2)**0.5\n",
    "radius = a*(1 - e**2)/(1+e*np.cos(v))\n",
    "\n",
    "\n",
    "\n",
    "orb_v = 2*np.pi*a/P\n",
    "\n",
    "\n",
    "def velocity(x,y):\n",
    "    \n",
    "    vel_circle = orb_v*(1-((R_star - x )/a)**2)**0.5\n",
    "    if y==1:\n",
    "        vel  = ((1 + e*np.sin(omega))/(1-e**2)**0.5)*vel_circle\n",
    "    else:\n",
    "        vel  = ((1 - e*np.sin(omega))/(1-e**2)**0.5)*vel_circle\n",
    "    return vel\n",
    "\n",
    "\n",
    "def cos(x,y):  \n",
    "    if y==1:\n",
    "        b=b_transit\n",
    "    else :\n",
    "        b=b_occ\n",
    "    X_t = ((R_star+R_planet)**2 - b**2)**0.5\n",
    "    r = ((X_t - x)**2 + b**2)**0.5\n",
    "    u = (1-(r/(R_star+R_planet))**2)**0.5\n",
    "    return u\n",
    "def area(x):\n",
    "    alpha = np.arccos((R_planet-x)/R_planet)\n",
    "    A = alpha*R_planet**2 - R_planet*np.sin(alpha)*(R_planet-x)\n",
    "    return A"
   ]
  },
  {
   "cell_type": "code",
   "execution_count": 89,
   "metadata": {},
   "outputs": [],
   "source": [
    "mu3 =cos(0,1)\n",
    "I3 = lin(mu3)\n",
    "delta3 = (I3-I_planet)*delta/0.9"
   ]
  },
  {
   "cell_type": "code",
   "execution_count": 120,
   "metadata": {},
   "outputs": [
    {
     "name": "stdout",
     "output_type": "stream",
     "text": [
      "0.0846268221145716\n",
      "0.1692536453707461\n",
      "0.2538804697501281\n",
      "0.3385072952330922\n",
      "0.42313412180247323\n",
      "0.5077609494337247\n",
      "0.5923877781096818\n",
      "0.6770146078107188\n",
      "0.7616414385172101\n",
      "0.8462682702095303\n",
      "0.9308951028680538\n"
     ]
    }
   ],
   "source": [
    "\n",
    "t = []\n",
    "t = np.arange(0,P,(transit_t -transit_f)/30)\n",
    "intensity = []\n",
    "j= 0 \n",
    "s= 0\n",
    "x_transit=0\n",
    "x_occ = 0\n",
    "for k in range (0,len(t),1):\n",
    "    if t[k] <= 0.25*P  :\n",
    "        intensity.append(1)\n",
    "        j=j+1\n",
    "        \n",
    "    elif  x_transit  >=0  and t[k]>0.25*P and x_transit < 2*R_star +4*R_planet:\n",
    "        \n",
    "        v = velocity(x_transit,1)\n",
    "        x_transit = x_transit + (t[k] -t[k-1])*v\n",
    "        \n",
    "        if x_transit < 2*R_planet:  \n",
    "            A =area(x_transit)\n",
    "            delt =delta3*A/(np.pi*R_planet**2)\n",
    "            intensity.append(1-delt)\n",
    "            print(x_transit/(2*R_planet))\n",
    "           \n",
    "        \n",
    "        elif (x_transit >= 2*R_planet and x_transit < (2*R_star +2*R_planet)):\n",
    "        \n",
    "            mu = cos(x_transit,1)\n",
    "            I = lin(mu)\n",
    "            delta_i = (I-I_planet)*delta*I_center/I_avg          # I_avg is average intensity /max_intensity i.e (I_center)\n",
    "            intensity.append(1-delta_i)\n",
    "        \n",
    "        elif  (x_transit  >=(2*R_star +2*R_planet) and x_transit<(2*R_star +4*R_planet)) :\n",
    "            \n",
    "           \n",
    "            A =area((2*R_star +4*R_planet)- x_transit)\n",
    "            delt =delta3*A/(np.pi*R_planet**2)\n",
    "            intensity.append(1-delt)\n",
    "            \n",
    "           \n",
    "    elif  (x_transit>=(2*R_star +4*R_planet) and t[k] < 0.75*P) :\n",
    "          intensity.append(1)\n",
    "\n",
    "    elif  t[k] >= 0.75*P  and  x_occ  <4*R_planet + 2*R_star:\n",
    "        v = velocity(x_occ,0)\n",
    "        x_occ = x_occ + (t[k] -t[k-1])*v\n",
    "           \n",
    "        if x_occ< 2*R_planet:\n",
    "            A =area(x_occ)\n",
    "            delt =delta_occ*A/(np.pi*R_planet**2)\n",
    "            intensity.append(1-delt)  \n",
    "           \n",
    "        elif  (x_occ >= 2*R_planet and x_occ< 2*R_star+2*R_planet) :\n",
    "        \n",
    "            intensity.append(1-delta_occ)\n",
    "     \n",
    "        elif  (x_occ >=(2*R_star +2*R_planet) and x_occ < (2*R_star +4*R_planet)) :\n",
    "        \n",
    "           \n",
    "            A =area(-x_occ+(2*R_star +4*R_planet))\n",
    "            delt =delta_occ*A/(np.pi*R_planet**2)\n",
    "            intensity.append(1-delt)\n",
    "            \n",
    "            \n",
    "            \n",
    "    \n",
    "    elif x_occ >= (2*R_star +4*R_planet):\n",
    "        intensity.append(1)"
   ]
  },
  {
   "cell_type": "code",
   "execution_count": 121,
   "metadata": {},
   "outputs": [
    {
     "ename": "ValueError",
     "evalue": "x and y must have same first dimension, but have shapes (523749,) and (523747,)",
     "output_type": "error",
     "traceback": [
      "\u001b[1;31m---------------------------------------------------------------------------\u001b[0m",
      "\u001b[1;31mValueError\u001b[0m                                Traceback (most recent call last)",
      "\u001b[1;32m<ipython-input-121-c2c3079a4f49>\u001b[0m in \u001b[0;36m<module>\u001b[1;34m\u001b[0m\n\u001b[0;32m      1\u001b[0m \u001b[0mplt\u001b[0m\u001b[1;33m.\u001b[0m\u001b[0mfigure\u001b[0m\u001b[1;33m(\u001b[0m\u001b[0mfigsize\u001b[0m\u001b[1;33m=\u001b[0m\u001b[1;33m(\u001b[0m\u001b[1;36m8\u001b[0m\u001b[1;33m,\u001b[0m\u001b[1;36m6\u001b[0m\u001b[1;33m)\u001b[0m\u001b[1;33m)\u001b[0m\u001b[1;33m\u001b[0m\u001b[1;33m\u001b[0m\u001b[0m\n\u001b[1;32m----> 2\u001b[1;33m \u001b[0mplt\u001b[0m\u001b[1;33m.\u001b[0m\u001b[0mplot\u001b[0m\u001b[1;33m(\u001b[0m\u001b[0mt\u001b[0m\u001b[1;33m,\u001b[0m\u001b[0mintensity\u001b[0m\u001b[1;33m,\u001b[0m\u001b[1;34m'k'\u001b[0m\u001b[1;33m)\u001b[0m\u001b[1;33m\u001b[0m\u001b[1;33m\u001b[0m\u001b[0m\n\u001b[0m",
      "\u001b[1;32mD:\\Student Programs\\snake\\lib\\site-packages\\matplotlib\\pyplot.py\u001b[0m in \u001b[0;36mplot\u001b[1;34m(scalex, scaley, data, *args, **kwargs)\u001b[0m\n\u001b[0;32m   2794\u001b[0m     return gca().plot(\n\u001b[0;32m   2795\u001b[0m         *args, scalex=scalex, scaley=scaley, **({\"data\": data} if data\n\u001b[1;32m-> 2796\u001b[1;33m         is not None else {}), **kwargs)\n\u001b[0m\u001b[0;32m   2797\u001b[0m \u001b[1;33m\u001b[0m\u001b[0m\n\u001b[0;32m   2798\u001b[0m \u001b[1;33m\u001b[0m\u001b[0m\n",
      "\u001b[1;32mD:\\Student Programs\\snake\\lib\\site-packages\\matplotlib\\axes\\_axes.py\u001b[0m in \u001b[0;36mplot\u001b[1;34m(self, scalex, scaley, data, *args, **kwargs)\u001b[0m\n\u001b[0;32m   1663\u001b[0m         \"\"\"\n\u001b[0;32m   1664\u001b[0m         \u001b[0mkwargs\u001b[0m \u001b[1;33m=\u001b[0m \u001b[0mcbook\u001b[0m\u001b[1;33m.\u001b[0m\u001b[0mnormalize_kwargs\u001b[0m\u001b[1;33m(\u001b[0m\u001b[0mkwargs\u001b[0m\u001b[1;33m,\u001b[0m \u001b[0mmlines\u001b[0m\u001b[1;33m.\u001b[0m\u001b[0mLine2D\u001b[0m\u001b[1;33m.\u001b[0m\u001b[0m_alias_map\u001b[0m\u001b[1;33m)\u001b[0m\u001b[1;33m\u001b[0m\u001b[1;33m\u001b[0m\u001b[0m\n\u001b[1;32m-> 1665\u001b[1;33m         \u001b[0mlines\u001b[0m \u001b[1;33m=\u001b[0m \u001b[1;33m[\u001b[0m\u001b[1;33m*\u001b[0m\u001b[0mself\u001b[0m\u001b[1;33m.\u001b[0m\u001b[0m_get_lines\u001b[0m\u001b[1;33m(\u001b[0m\u001b[1;33m*\u001b[0m\u001b[0margs\u001b[0m\u001b[1;33m,\u001b[0m \u001b[0mdata\u001b[0m\u001b[1;33m=\u001b[0m\u001b[0mdata\u001b[0m\u001b[1;33m,\u001b[0m \u001b[1;33m**\u001b[0m\u001b[0mkwargs\u001b[0m\u001b[1;33m)\u001b[0m\u001b[1;33m]\u001b[0m\u001b[1;33m\u001b[0m\u001b[1;33m\u001b[0m\u001b[0m\n\u001b[0m\u001b[0;32m   1666\u001b[0m         \u001b[1;32mfor\u001b[0m \u001b[0mline\u001b[0m \u001b[1;32min\u001b[0m \u001b[0mlines\u001b[0m\u001b[1;33m:\u001b[0m\u001b[1;33m\u001b[0m\u001b[1;33m\u001b[0m\u001b[0m\n\u001b[0;32m   1667\u001b[0m             \u001b[0mself\u001b[0m\u001b[1;33m.\u001b[0m\u001b[0madd_line\u001b[0m\u001b[1;33m(\u001b[0m\u001b[0mline\u001b[0m\u001b[1;33m)\u001b[0m\u001b[1;33m\u001b[0m\u001b[1;33m\u001b[0m\u001b[0m\n",
      "\u001b[1;32mD:\\Student Programs\\snake\\lib\\site-packages\\matplotlib\\axes\\_base.py\u001b[0m in \u001b[0;36m__call__\u001b[1;34m(self, *args, **kwargs)\u001b[0m\n\u001b[0;32m    223\u001b[0m                 \u001b[0mthis\u001b[0m \u001b[1;33m+=\u001b[0m \u001b[0margs\u001b[0m\u001b[1;33m[\u001b[0m\u001b[1;36m0\u001b[0m\u001b[1;33m]\u001b[0m\u001b[1;33m,\u001b[0m\u001b[1;33m\u001b[0m\u001b[1;33m\u001b[0m\u001b[0m\n\u001b[0;32m    224\u001b[0m                 \u001b[0margs\u001b[0m \u001b[1;33m=\u001b[0m \u001b[0margs\u001b[0m\u001b[1;33m[\u001b[0m\u001b[1;36m1\u001b[0m\u001b[1;33m:\u001b[0m\u001b[1;33m]\u001b[0m\u001b[1;33m\u001b[0m\u001b[1;33m\u001b[0m\u001b[0m\n\u001b[1;32m--> 225\u001b[1;33m             \u001b[1;32myield\u001b[0m \u001b[1;32mfrom\u001b[0m \u001b[0mself\u001b[0m\u001b[1;33m.\u001b[0m\u001b[0m_plot_args\u001b[0m\u001b[1;33m(\u001b[0m\u001b[0mthis\u001b[0m\u001b[1;33m,\u001b[0m \u001b[0mkwargs\u001b[0m\u001b[1;33m)\u001b[0m\u001b[1;33m\u001b[0m\u001b[1;33m\u001b[0m\u001b[0m\n\u001b[0m\u001b[0;32m    226\u001b[0m \u001b[1;33m\u001b[0m\u001b[0m\n\u001b[0;32m    227\u001b[0m     \u001b[1;32mdef\u001b[0m \u001b[0mget_next_color\u001b[0m\u001b[1;33m(\u001b[0m\u001b[0mself\u001b[0m\u001b[1;33m)\u001b[0m\u001b[1;33m:\u001b[0m\u001b[1;33m\u001b[0m\u001b[1;33m\u001b[0m\u001b[0m\n",
      "\u001b[1;32mD:\\Student Programs\\snake\\lib\\site-packages\\matplotlib\\axes\\_base.py\u001b[0m in \u001b[0;36m_plot_args\u001b[1;34m(self, tup, kwargs)\u001b[0m\n\u001b[0;32m    389\u001b[0m             \u001b[0mx\u001b[0m\u001b[1;33m,\u001b[0m \u001b[0my\u001b[0m \u001b[1;33m=\u001b[0m \u001b[0mindex_of\u001b[0m\u001b[1;33m(\u001b[0m\u001b[0mtup\u001b[0m\u001b[1;33m[\u001b[0m\u001b[1;33m-\u001b[0m\u001b[1;36m1\u001b[0m\u001b[1;33m]\u001b[0m\u001b[1;33m)\u001b[0m\u001b[1;33m\u001b[0m\u001b[1;33m\u001b[0m\u001b[0m\n\u001b[0;32m    390\u001b[0m \u001b[1;33m\u001b[0m\u001b[0m\n\u001b[1;32m--> 391\u001b[1;33m         \u001b[0mx\u001b[0m\u001b[1;33m,\u001b[0m \u001b[0my\u001b[0m \u001b[1;33m=\u001b[0m \u001b[0mself\u001b[0m\u001b[1;33m.\u001b[0m\u001b[0m_xy_from_xy\u001b[0m\u001b[1;33m(\u001b[0m\u001b[0mx\u001b[0m\u001b[1;33m,\u001b[0m \u001b[0my\u001b[0m\u001b[1;33m)\u001b[0m\u001b[1;33m\u001b[0m\u001b[1;33m\u001b[0m\u001b[0m\n\u001b[0m\u001b[0;32m    392\u001b[0m \u001b[1;33m\u001b[0m\u001b[0m\n\u001b[0;32m    393\u001b[0m         \u001b[1;32mif\u001b[0m \u001b[0mself\u001b[0m\u001b[1;33m.\u001b[0m\u001b[0mcommand\u001b[0m \u001b[1;33m==\u001b[0m \u001b[1;34m'plot'\u001b[0m\u001b[1;33m:\u001b[0m\u001b[1;33m\u001b[0m\u001b[1;33m\u001b[0m\u001b[0m\n",
      "\u001b[1;32mD:\\Student Programs\\snake\\lib\\site-packages\\matplotlib\\axes\\_base.py\u001b[0m in \u001b[0;36m_xy_from_xy\u001b[1;34m(self, x, y)\u001b[0m\n\u001b[0;32m    268\u001b[0m         \u001b[1;32mif\u001b[0m \u001b[0mx\u001b[0m\u001b[1;33m.\u001b[0m\u001b[0mshape\u001b[0m\u001b[1;33m[\u001b[0m\u001b[1;36m0\u001b[0m\u001b[1;33m]\u001b[0m \u001b[1;33m!=\u001b[0m \u001b[0my\u001b[0m\u001b[1;33m.\u001b[0m\u001b[0mshape\u001b[0m\u001b[1;33m[\u001b[0m\u001b[1;36m0\u001b[0m\u001b[1;33m]\u001b[0m\u001b[1;33m:\u001b[0m\u001b[1;33m\u001b[0m\u001b[1;33m\u001b[0m\u001b[0m\n\u001b[0;32m    269\u001b[0m             raise ValueError(\"x and y must have same first dimension, but \"\n\u001b[1;32m--> 270\u001b[1;33m                              \"have shapes {} and {}\".format(x.shape, y.shape))\n\u001b[0m\u001b[0;32m    271\u001b[0m         \u001b[1;32mif\u001b[0m \u001b[0mx\u001b[0m\u001b[1;33m.\u001b[0m\u001b[0mndim\u001b[0m \u001b[1;33m>\u001b[0m \u001b[1;36m2\u001b[0m \u001b[1;32mor\u001b[0m \u001b[0my\u001b[0m\u001b[1;33m.\u001b[0m\u001b[0mndim\u001b[0m \u001b[1;33m>\u001b[0m \u001b[1;36m2\u001b[0m\u001b[1;33m:\u001b[0m\u001b[1;33m\u001b[0m\u001b[1;33m\u001b[0m\u001b[0m\n\u001b[0;32m    272\u001b[0m             raise ValueError(\"x and y can be no greater than 2-D, but have \"\n",
      "\u001b[1;31mValueError\u001b[0m: x and y must have same first dimension, but have shapes (523749,) and (523747,)"
     ]
    },
    {
     "data": {
      "image/png": "[encoded data removed]",
      "text/plain": [
       "<Figure size 576x432 with 1 Axes>"
      ]
     },
     "metadata": {
      "needs_background": "light"
     },
     "output_type": "display_data"
    }
   ],
   "source": [
    "plt.figure(figsize=(8,6))\n",
    "plt.plot(t,intensity,'k')\n"
   ]
  },
  {
   "cell_type": "code",
   "execution_count": 97,
   "metadata": {},
   "outputs": [
    {
     "data": {
      "text/plain": [
       "1.6910862091896848"
      ]
     },
     "execution_count": 97,
     "metadata": {},
     "output_type": "execute_result"
    }
   ],
   "source": [
    "np.arccos(-0.12)"
   ]
  },
  {
   "cell_type": "code",
   "execution_count": null,
   "metadata": {},
   "outputs": [],
   "source": []
  }
 ],
 "metadata": {
  "kernelspec": {
   "display_name": "Python 3",
   "language": "python",
   "name": "python3"
  },
  "language_info": {
   "codemirror_mode": {
    "name": "ipython",
    "version": 3
   },
   "file_extension": ".py",
   "mimetype": "text/x-python",
   "name": "python",
   "nbconvert_exporter": "python",
   "pygments_lexer": "ipython3",
   "version": "3.7.6"
  }
 },
 "nbformat": 4,
 "nbformat_minor": 4
}
