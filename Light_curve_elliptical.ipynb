{
 "cells": [
  {
   "cell_type": "code",
   "execution_count": 1,
   "metadata": {},
   "outputs": [],
   "source": [
    "import numpy as np\n",
    "import matplotlib.pyplot as plt\n",
    "from scipy import constants as c"
   ]
  },
  {
   "cell_type": "code",
   "execution_count": 2,
   "metadata": {},
   "outputs": [],
   "source": [
    "# the specifications are for jupyter earth system\n",
    "R_planet = 7*10**7\n",
    "R_star = 7*10**8\n",
    "angle = np.pi/2\n",
    "P = 3*10**7 \n",
    "a = 1*10**11\n",
    "#assumed\n",
    "e = 0.2           \n",
    "omega = 1.2\n",
    "G =c.G\n",
    "M_planet = 2*10**27\n",
    "M_star = 2*10**30"
   ]
  },
  {
   "cell_type": "code",
   "execution_count": 3,
   "metadata": {},
   "outputs": [],
   "source": [
    "delta = (R_planet/R_star)**2\n",
    "\n",
    "#these times are for circular orbit\n",
    "transit_t = (P/np.pi)*np.arcsin((((R_star + R_planet)**2 - (a*np.cos(angle))**2)**0.5)/(a*np.sin(angle)))\n",
    "transit_f = (P/np.pi)*np.arcsin((((R_star - R_planet)**2 - (a*np.cos(angle))**2)**0.5)/(a*np.sin(angle)))\n",
    "\n",
    "\n",
    "b_transit = a*np.cos(angle)*(1 - e**2)/(1+e*np.cos(omega))\n",
    "b_occ = a*np.cos(angle)*(1 - e**2)/(1-e*np.cos(omega))"
   ]
  },
  {
   "cell_type": "code",
   "execution_count": 4,
   "metadata": {},
   "outputs": [],
   "source": [
    "#Here I means relative intensity \n",
    "#linear model\n",
    "\n",
    "def lin(mu):\n",
    "    u = 0.3\n",
    "    return  1- u*(1-mu)\n",
    "\n",
    "#quadratic law\n",
    "\n",
    "def quad(mu):\n",
    "    u1 = 0.1\n",
    "    u2 = 0.2\n",
    "    return  1- u1*(1-mu) -u2*(1-mu)**2\n",
    "#non-linear law\n",
    "def nonlinear(mu):\n",
    "    u1 = 0.05\n",
    "    u2 = 0.05\n",
    "    u3 = 0.15\n",
    "    u4 = 0.05\n",
    "    return  1-u1*(1-mu**0.5) -u2*(1-mu)-u3*(1 -mu**1.5)-u4*(1 - mu**2)"
   ]
  },
  {
   "cell_type": "code",
   "execution_count": 5,
   "metadata": {},
   "outputs": [],
   "source": [
    "I_avg = 1       #since we are plotting relative intensity w.r.t to avg_intesity of star we need to find I_avg (without planet)\n",
    "\n",
    "I_center = 1/0.9  #this is assumed not calculated \n",
    "\n"
   ]
  },
  {
   "cell_type": "code",
   "execution_count": 6,
   "metadata": {},
   "outputs": [
    {
     "name": "stdout",
     "output_type": "stream",
     "text": [
      "0.00024561464758771935\n"
     ]
    }
   ],
   "source": [
    "# ok now lets introduce planet luminosity\n",
    "r_coeff = 0.5\n",
    "L_planet  = r_coeff*I_avg/4*(R_planet/a)**2\n",
    "\n",
    "#including planet lminosity\n",
    "Temp_star = 5700\n",
    "Temp_planet = 140        # these values are of sun and jupyter\n",
    "\n",
    "#intensity by planet is calculated by stefan boltzmann law\n",
    "#the ratio of intensity of star to that of planet is proportional to ratio of respective temperature at longer wavelengths\n",
    "#assuming planet and star act as black body\n",
    "\n",
    "I_planet = (Temp_planet/Temp_star)   #I_planet w.r.t to star\n",
    "\n",
    "\n",
    "delta_occ  = (L_planet+I_planet)*(R_planet/R_star)**2\n",
    "print(delta_occ)"
   ]
  },
  {
   "cell_type": "code",
   "execution_count": 7,
   "metadata": {},
   "outputs": [],
   "source": [
    "def ellipse(t):\n",
    "    T = 0\n",
    "    M = 2*np.pi*(t-T)/P\n",
    "   \n",
    "    \n",
    "    E_1 = M\n",
    "    E_0 = 0\n",
    "    while abs(E_1-E_0)>0.1:\n",
    "        \n",
    "        S = M + e*np.sin(E_1)\n",
    "        E_0 = E_1\n",
    "        E_1 = S\n",
    "        \n",
    "        #print(E_1-E_0)\n",
    "    E = E_1\n",
    "    \n",
    "    #v = true anomaly\n",
    "    v = np.arccos((np.cos(E)-e)/(1-e*np.cos(E)))\n",
    "    if E >np.pi:\n",
    "        v = 2*np.pi - v\n",
    "    \n",
    "    return v\n",
    "\n",
    "def vel_elliptical(t):\n",
    "    f = ellipse(t)\n",
    "    v_x = (G*M_star**2/((M_star+M_planet)*a*(1-e**2)))**0.5*(np.sin(omega +f)+e*np.sin(omega))\n",
    "    return v_x\n",
    "        "
   ]
  },
  {
   "cell_type": "code",
   "execution_count": 8,
   "metadata": {},
   "outputs": [],
   "source": [
    "\n",
    "\n",
    "\n",
    "def cos(x,y):  \n",
    "    if y==1:\n",
    "        b=b_transit\n",
    "    else :\n",
    "        b=b_occ \n",
    "    X_t = ((R_star)**2 - b**2)**0.5\n",
    "    r = ((X_t +R_planet - x)**2 + b**2)**0.5\n",
    "    u = (1-(r/(R_star+R_planet))**2)**0.5\n",
    "    return u\n",
    "def area(x):\n",
    "   \n",
    "    alpha = np.arccos((R_planet-x)/R_planet)\n",
    "    A = alpha*R_planet**2 - R_planet*np.sin(alpha)*(R_planet-x)\n",
    "    return A\n",
    "\n",
    "\n",
    "R_len_t = ((R_star)**2 - b_transit**2)**0.5\n",
    "R_len_o = ((R_star)**2 - b_occ**2)**0.5\n",
    "\n",
    "def planet_lumin(v):\n",
    "    z = R_planet - R_planet*abs(np.cos(v-(np.pi/2-omega)))\n",
    "  \n",
    "    A = area(z)\n",
    "    L = I_planet + A/(np.pi*R_planet**2)*r_coeff*I_avg/4*(R_planet/a)**2\n",
    "    return L"
   ]
  },
  {
   "cell_type": "code",
   "execution_count": 9,
   "metadata": {},
   "outputs": [
    {
     "name": "stdout",
     "output_type": "stream",
     "text": [
      "0.5749595745760688\n"
     ]
    }
   ],
   "source": [
    "mu3 =cos(2*R_planet,1)\n",
    "I3 = lin(mu3)\n",
    "delta3 = (I3-I_planet)*delta*I_center/I_avg\n",
    "\n",
    "print(mu3)"
   ]
  },
  {
   "cell_type": "code",
   "execution_count": 20,
   "metadata": {
    "scrolled": true
   },
   "outputs": [],
   "source": [
    "\n",
    "t = []\n",
    "t = np.arange(0 , P  ,P/10000)\n",
    "intensity = []\n",
    "\n",
    "j=0\n",
    "x_transit=0\n",
    "x_occ = 0\n",
    "for k in range (0,len(t),1):\n",
    "    w = ellipse(t[k])\n",
    "    \n",
    "    if w <= np.pi/2 - omega :\n",
    "        I = I_avg\n",
    "        I_planet1 = planet_lumin(w)\n",
    "        delt = (-I_planet1)*delta*I_center/I_avg\n",
    "        intensity.append(1-delt)\n",
    "        j=j+1\n",
    "        \n",
    "    elif  x_transit  >=0  and w > np.pi/2 - omega and x_transit < 2*R_len_t +2*R_planet:\n",
    "        \n",
    "        v = vel_elliptical(t[k])\n",
    "       \n",
    "        \n",
    "        if x_transit <= 2*R_planet:\n",
    "            mu =cos(2*R_planet,1)\n",
    "            I = lin(mu)\n",
    "            I_planet1 = planet_lumin(w)\n",
    "            delt2 = (I-I_planet1)*delta*I_center/I_avg\n",
    "            \n",
    "            \n",
    "            A =area(x_transit)\n",
    "            delt =delt2*A/(np.pi*R_planet**2)\n",
    "            intensity.append(1-delt)\n",
    "          \n",
    "        elif (x_transit > 2*R_planet and x_transit < (2*R_len_t )):\n",
    "            \n",
    "            mu = cos(x_transit,1)\n",
    "            I = lin(mu)\n",
    "            I_planet1 = planet_lumin(w)\n",
    "            delta_i = (I-I_planet1)*delta*I_center/I_avg # I_avg is average intensity /max_intensity i.e (I_center)\n",
    "            intensity.append(1-delta_i)\n",
    "       \n",
    "            \n",
    "        elif  (x_transit  >=(2*R_len_t ) and x_transit<(2*R_len_t +2*R_planet)) :\n",
    "            \n",
    "            mu =cos(2*R_planet,1)\n",
    "            I = lin(mu)\n",
    "            I_planet1 = planet_lumin(w)\n",
    "            delt2 = (I-I_planet1)*delta*I_center/I_avg\n",
    "            \n",
    "            A =area((2*R_len_t +2*R_planet) - x_transit)\n",
    "            delt =delt2*A/(np.pi*R_planet**2)\n",
    "            intensity.append(1-delt)\n",
    "            \n",
    "        else:\n",
    "            \n",
    "            I_planet1 = planet_lumin(w)\n",
    "            delt = (-I_planet1)*delta*I_center/I_avg\n",
    "            intensity.append(1-delt)    \n",
    "        x_transit = x_transit + (t[k+1] -t[k])*v \n",
    "        \n",
    "    \n",
    "    \n",
    "    elif  x_transit>(2*R_len_t +2*R_planet) and w < 3*np.pi/2-omega:\n",
    "        I = I_avg\n",
    "        I_planet1 = planet_lumin(w)\n",
    "        delt2 = (-I_planet1)*delta*I_center/I_avg\n",
    "        intensity.append(1-delt2)\n",
    "\n",
    "    elif   w >= 3*np.pi/2-omega  and  x_occ  <2*R_planet + 2*R_len_o:\n",
    "        v = vel_elliptical(t[k])\n",
    "        x_occ = x_occ + -(t[k] -t[k-1])*v\n",
    "           \n",
    "        if x_occ< 2*R_planet:\n",
    "            A =area(x_occ)\n",
    "            delt =delta_occ*A/(np.pi*R_planet**2)\n",
    "            intensity.append(1-delt)  \n",
    "           \n",
    "        elif  (x_occ >= 2*R_planet and x_occ< 2*R_len_o) :\n",
    "        \n",
    "            intensity.append(1-delta_occ)\n",
    "     \n",
    "        elif  (x_occ >=(2*R_len_o ) and x_occ < (2*R_len_o +2*R_planet)) :\n",
    "        \n",
    "           \n",
    "            A =area(-x_occ+(2*R_len_o +2*R_planet))\n",
    "            delt =delta_occ*A/(np.pi*R_planet**2)\n",
    "            intensity.append(1-delt)\n",
    "            \n",
    "        else:\n",
    "            I=I_avg\n",
    "            I_planet1 = planet_lumin(w)\n",
    "            delt2 = (I_planet1)*delta*I_center/I_avg\n",
    "            intensity.append(1-delt2)\n",
    "\n",
    "            \n",
    "            \n",
    "    \n",
    "    elif x_occ >= (2*R_star +2*R_planet):\n",
    "        I = I_avg\n",
    "        I_planet1 = planet_lumin(w)\n",
    "        delt2 = (-I_planet1)*delta*I_center/I_avg\n",
    "        intensity.append(1-delt2)"
   ]
  },
  {
   "cell_type": "code",
   "execution_count": 21,
   "metadata": {},
   "outputs": [
    {
     "data": {
      "text/plain": [
       "Text(0.5, 0, 'time')"
      ]
     },
     "execution_count": 21,
     "metadata": {},
     "output_type": "execute_result"
    },
    {
     "data": {
      "image/png": "[encoded data removed]",
      "text/plain": [
       "<Figure size 576x432 with 1 Axes>"
      ]
     },
     "metadata": {
      "needs_background": "light"
     },
     "output_type": "display_data"
    }
   ],
   "source": [
    "plt.figure(figsize=(8,6))\n",
    "plt.plot(t,intensity,'k')\n",
    "plt.ylabel('Intensity')\n",
    "plt.xlabel('time')"
   ]
  },
  {
   "cell_type": "code",
   "execution_count": null,
   "metadata": {},
   "outputs": [],
   "source": []
  }
 ],
 "metadata": {
  "kernelspec": {
   "display_name": "Python 3",
   "language": "python",
   "name": "python3"
  },
  "language_info": {
   "codemirror_mode": {
    "name": "ipython",
    "version": 3
   },
   "file_extension": ".py",
   "mimetype": "text/x-python",
   "name": "python",
   "nbconvert_exporter": "python",
   "pygments_lexer": "ipython3",
   "version": "3.7.6"
  }
 },
 "nbformat": 4,
 "nbformat_minor": 4
}
