{
 "cells": [
  {
   "cell_type": "code",
   "execution_count": 30,
   "metadata": {},
   "outputs": [],
   "source": [
    "import numpy as np\n",
    "import matplotlib.pyplot as plt"
   ]
  },
  {
   "cell_type": "code",
   "execution_count": 31,
   "metadata": {},
   "outputs": [],
   "source": [
    "# the specifications are for jupyter earth - sun system\n",
    "R_planet = 70000\n",
    "R_star = 695842\n",
    "angle = np.pi/2\n",
    "P = 1  \n",
    "a = 400000000\n",
    "ratio_of_mass = 1/1000  #ratio of planet to star mass , data taken as ratio of jupiter to sun\n",
    "angle_of_orbit = 50*np.pi/180"
   ]
  },
  {
   "cell_type": "code",
   "execution_count": 32,
   "metadata": {},
   "outputs": [
    {
     "name": "stdout",
     "output_type": "stream",
     "text": [
      "0.0006094380719747433\n"
     ]
    }
   ],
   "source": [
    "#first lets assume the orbit is circular and its a two body problem\n",
    "# COM = M_planet*a/(M_planet + M_star) \n",
    "# COM is measured from stars center\n",
    "COM = a/(1+(1/ratio_of_mass))\n",
    "b = a*np.cos(angle)\n",
    "R_len= ((R_star)**2 - b**2)**0.5\n",
    "V_star = 2*np.pi*COM/P\n",
    "omega = 2*np.pi/P\n",
    "\n",
    "transit_t = (P/np.pi)*np.arcsin((((R_star + R_planet)**2 - (a*np.cos(angle))**2)**0.5)/(a*np.sin(angle)))\n",
    "print(transit_t)"
   ]
  },
  {
   "cell_type": "code",
   "execution_count": 33,
   "metadata": {},
   "outputs": [],
   "source": [
    "def r_vel(t):\n",
    "    omega = 2*np.pi/P\n",
    "    V = 2*np.pi*COM*np.sin(angle)/P\n",
    "    r_v = V*np.sin(omega*t)          # at t=0 the star is at the the periastron no relative velocity along the line of sight  \n",
    "    return r_v\n"
   ]
  },
  {
   "cell_type": "code",
   "execution_count": 34,
   "metadata": {},
   "outputs": [],
   "source": [
    "t1 = np.arange(0,3*P,P/1000)\n",
    "v = []\n",
    "for i in t1:\n",
    "    v.append(r_vel(i)/(365*24*3600)) #just converting km/year to km/s."
   ]
  },
  {
   "cell_type": "code",
   "execution_count": 35,
   "metadata": {
    "scrolled": false
   },
   "outputs": [
    {
     "data": {
      "text/plain": [
       "Text(0, 0.5, 'velocity in km/s')"
      ]
     },
     "execution_count": 35,
     "metadata": {},
     "output_type": "execute_result"
    },
    {
     "data": {
      "image/png": "[encoded data removed]",
      "text/plain": [
       "<Figure size 576x432 with 1 Axes>"
      ]
     },
     "metadata": {
      "needs_background": "light"
     },
     "output_type": "display_data"
    }
   ],
   "source": [
    "plt.figure(figsize=(8,6))\n",
    "plt.plot(t1,v,'k')\n",
    "plt.xlabel('time in years')\n",
    "plt.ylabel('velocity in km/s')"
   ]
  },
  {
   "cell_type": "code",
   "execution_count": 36,
   "metadata": {},
   "outputs": [],
   "source": [
    "def x_dist(t1,t2):\n",
    "    V_planet = 2*np.pi*a/P \n",
    "    return -V_planet*(np.sin(omega*t1+np.pi)-np.sin(omega*t2+np.pi))/omega\n",
    "\n",
    "def area(x):\n",
    "    alpha = np.arccos((R_planet-x)/R_planet)\n",
    "    A = alpha*R_planet**2 - R_planet*np.sin(alpha)*(R_planet-x)\n",
    "    return A"
   ]
  },
  {
   "cell_type": "code",
   "execution_count": 37,
   "metadata": {},
   "outputs": [],
   "source": [
    "#calculating red_shift\n",
    "def r_shift(v):\n",
    "    c= 3*10**8\n",
    "    z = ((1+ (v/c))/(1 - (v/c)))**0.5 -1 \n",
    "    return z\n",
    "\n",
    "\n",
    "#including rotation\n",
    "#assuming star as a sphere having fixed rotation period\n",
    "\n",
    "P_rot_star = 26/365               # in yrs   \n",
    "omega_rot = 2*np.pi/P_rot_star\n",
    "\n",
    "#calculating velocity as function of latitude , longitude of star \n",
    " \n",
    "def velocity(alpha, theta,t):\n",
    "    vel_rot = -omega_rot*R_star*np.cos(theta)*np.cos(alpha)\n",
    "    vel_rev = r_vel(t)\n",
    "    v = vel_rot + vel_rev\n",
    "    return v \n",
    "\n",
    "#as we have defined velocity of every point on star we need to find avg vel over disc surface\n",
    "def avg_vel(t,A,x):\n",
    "    #we know that avg velocity equals velocity of COM but when the planet transit we have some surfave velocity covered by \n",
    "    #planet so we subtract that from COM velocity\n",
    "   \n",
    "    o = angle_of_orbit\n",
    "    \n",
    "    H = (R_len)*np.sin(o)-b*np.cos(o)\n",
    "    \n",
    "\n",
    "    h = (R_len-x+R_planet)*np.sin(o)-b*np.cos(o)\n",
    "    R_disc = (R_star**2 - h**2)**0.5\n",
    "    y = R_star - (R_star**2 - H**2)**0.5 + (x-R_planet)*np.cos(o)\n",
    "    \n",
    "    \n",
    "    if ((-y+R_star)/R_disc) < 1 and ((-y+R_star)/R_disc)>-1 :\n",
    "        alpha = np.arccos((-y+R_star)/R_disc)\n",
    "    \n",
    "    elif x<2*R_planet:\n",
    "        alpha = 0\n",
    "      \n",
    "        \n",
    "    else:\n",
    "        alpha = np.pi\n",
    "      \n",
    "     \n",
    "    theta = np.arcsin(h/R_star)\n",
    "    \n",
    "        \n",
    "    v = velocity(alpha,theta,t)\n",
    "    vel_covered = A*v/(np.pi*R_star**2)\n",
    "    avg_vel = r_vel(t) - vel_covered\n",
    "    return avg_vel\n",
    "\n",
    "\n",
    "\n",
    "R_len = ((R_star)**2 - b**2)**0.5"
   ]
  },
  {
   "cell_type": "code",
   "execution_count": 42,
   "metadata": {
    "scrolled": true
   },
   "outputs": [],
   "source": [
    "t= np.arange(0.499*P,0.501*P,P/1000000) #here you can change limits to adjust time interval\n",
    "vel = []\n",
    "s=0\n",
    "x=0\n",
    "for time in t:\n",
    "    \n",
    "    if time < 0.5*P:\n",
    "        vel.append(r_vel(time))\n",
    "     \n",
    "    elif time>=0.5*P and x <2*R_len + 2*R_planet:\n",
    "        x = x_dist(0.5*P,time)  \n",
    "        s=s+1\n",
    "       \n",
    "        if x < 2*R_planet:\n",
    "            A = area(x)\n",
    "            vel.append(avg_vel(time,A,x))\n",
    "          \n",
    "            \n",
    "        elif x>=2*R_planet and x<2*R_len:\n",
    "            A = np.pi*R_planet**2\n",
    "            vel.append(avg_vel(time,A,x))\n",
    "            \n",
    "        elif x>=2*R_len and x<2*R_len + 2*R_planet:\n",
    "            A = area(2*R_len + 2*R_planet - x)\n",
    "            vel.append(avg_vel(time,A,x))\n",
    "        else:\n",
    "            vel.append(r_vel(time))\n",
    "\n",
    "        \n",
    "    else:\n",
    "        vel.append(r_vel(time))\n",
    "        \n",
    "for v in range (0,len(vel),1):\n",
    "    vel[v]= vel[v]/(365*24*3600)"
   ]
  },
  {
   "cell_type": "code",
   "execution_count": 46,
   "metadata": {},
   "outputs": [
    {
     "data": {
      "text/plain": [
       "Text(0, 0.5, 'radial velocity (km/s)')"
      ]
     },
     "execution_count": 46,
     "metadata": {},
     "output_type": "execute_result"
    },
    {
     "data": {
      "image/png": "[encoded data removed]",
      "text/plain": [
       "<Figure size 576x432 with 1 Axes>"
      ]
     },
     "metadata": {
      "needs_background": "light"
     },
     "output_type": "display_data"
    }
   ],
   "source": [
    "plt.figure(figsize=(8,6))\n",
    "plt.plot(t,vel,'k')\n",
    "plt.xlabel('time in yrs')\n",
    "plt.ylabel('radial velocity (km/s)')"
   ]
  },
  {
   "cell_type": "code",
   "execution_count": null,
   "metadata": {},
   "outputs": [],
   "source": []
  },
  {
   "cell_type": "code",
   "execution_count": null,
   "metadata": {},
   "outputs": [],
   "source": []
  }
 ],
 "metadata": {
  "kernelspec": {
   "display_name": "Python 3",
   "language": "python",
   "name": "python3"
  },
  "language_info": {
   "codemirror_mode": {
    "name": "ipython",
    "version": 3
   },
   "file_extension": ".py",
   "mimetype": "text/x-python",
   "name": "python",
   "nbconvert_exporter": "python",
   "pygments_lexer": "ipython3",
   "version": "3.7.6"
  }
 },
 "nbformat": 4,
 "nbformat_minor": 4
}
